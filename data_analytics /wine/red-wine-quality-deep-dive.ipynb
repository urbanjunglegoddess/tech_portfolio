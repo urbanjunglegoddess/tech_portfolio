{
 "metadata": {
  "kernelspec": {
   "name": "ir",
   "display_name": "R",
   "language": "R"
  },
  "language_info": {
   "name": "R",
   "codemirror_mode": "r",
   "pygments_lexer": "r",
   "mimetype": "text/x-r-source",
   "file_extension": ".r",
   "version": "4.0.5"
  }
 },
 "nbformat_minor": 4,
 "nbformat": 4,
 "cells": [
  {
   "cell_type": "markdown",
   "source": [
    "# Red Wine Quality Deep Dive\n",
    "\n",
    "## Omegea Hunter \n",
    "   06/21/2023\n",
    " \n",
    " \n",
    " **Deliverables**\n",
    " \n",
    "* Documentation of Cleaning and Manipulation\n",
    "* Summary of the analysis\n",
    "* Supporting Visuals\n",
    "* Final Findings"
   ],
   "metadata": {}
  },
  {
   "cell_type": "code",
   "source": [
    "## Installing and loading necessary packages\n",
    "install.packages(\"tidyverse\")\n",
    "install.packages(\"ggplot2\")\n",
    "install.packages(\"dplyr\")\n",
    "install.packages(\"lubridate\")\n",
    "install.packages(\"janitor\")\n",
    "library(tidyverse)\n",
    "library(ggplot2)\n",
    "library(dplyr)\n",
    "library(lubridate)\n",
    "library(janitor)"
   ],
   "metadata": {
    "_uuid": "051d70d956493feee0c6d64651c6a088724dca2a",
    "_execution_state": "idle",
    "execution": {
     "iopub.status.busy": "2023-06-21T14:38:42.776601Z",
     "iopub.execute_input": "2023-06-21T14:38:42.778606Z",
     "iopub.status.idle": "2023-06-21T14:40:10.894307Z"
    },
    "trusted": true
   },
   "execution_count": null,
   "outputs": []
  },
  {
   "cell_type": "code",
   "source": [
    "#Import Dataset\n",
    "wine_data <-read.csv(\"/kaggle/input/red-wine-quality-cortez-et-al-2009/winequality-red.csv\")"
   ],
   "metadata": {
    "execution": {
     "iopub.status.busy": "2023-06-21T14:41:30.916560Z",
     "iopub.execute_input": "2023-06-21T14:41:30.918199Z",
     "iopub.status.idle": "2023-06-21T14:41:30.943845Z"
    },
    "trusted": true
   },
   "execution_count": null,
   "outputs": []
  },
  {
   "cell_type": "code",
   "source": [
    "#View Dataset\n",
    "head(wine_data)"
   ],
   "metadata": {
    "execution": {
     "iopub.status.busy": "2023-06-21T14:41:36.117676Z",
     "iopub.execute_input": "2023-06-21T14:41:36.119311Z",
     "iopub.status.idle": "2023-06-21T14:41:36.160159Z"
    },
    "trusted": true
   },
   "execution_count": null,
   "outputs": []
  },
  {
   "cell_type": "code",
   "source": [
    "#Create Summary \n",
    "summary(wine_data)"
   ],
   "metadata": {
    "execution": {
     "iopub.status.busy": "2023-06-21T14:41:40.562065Z",
     "iopub.execute_input": "2023-06-21T14:41:40.563620Z",
     "iopub.status.idle": "2023-06-21T14:41:40.586980Z"
    },
    "trusted": true
   },
   "execution_count": null,
   "outputs": []
  },
  {
   "cell_type": "code",
   "source": [
    "#Explore the structure of the data\n",
    "str(wine_data)"
   ],
   "metadata": {
    "execution": {
     "iopub.status.busy": "2023-06-21T14:41:49.692443Z",
     "iopub.execute_input": "2023-06-21T14:41:49.694010Z",
     "iopub.status.idle": "2023-06-21T14:41:49.735332Z"
    },
    "trusted": true
   },
   "execution_count": null,
   "outputs": []
  },
  {
   "cell_type": "code",
   "source": [
    "#Check for missing values in the dataset\n",
    "sum(is.na(wine_data))"
   ],
   "metadata": {
    "execution": {
     "iopub.status.busy": "2023-06-21T14:41:52.568969Z",
     "iopub.execute_input": "2023-06-21T14:41:52.570510Z",
     "iopub.status.idle": "2023-06-21T14:41:52.587395Z"
    },
    "trusted": true
   },
   "execution_count": null,
   "outputs": []
  },
  {
   "cell_type": "markdown",
   "source": [
    "## Now lets identify potential research questions and goals based on the variables in the dataset"
   ],
   "metadata": {}
  },
  {
   "cell_type": "code",
   "source": [
    "#Is there a relationship between alcohol content and wine quality \n",
    "wine_data %>%\n",
    "dplyr::group_by(alcohol) %>%\n",
    "dplyr::summarize(avg_quality = mean(quality))"
   ],
   "metadata": {
    "execution": {
     "iopub.status.busy": "2023-06-21T14:42:04.621506Z",
     "iopub.execute_input": "2023-06-21T14:42:04.623101Z",
     "iopub.status.idle": "2023-06-21T14:42:04.701843Z"
    },
    "trusted": true
   },
   "execution_count": null,
   "outputs": []
  },
  {
   "cell_type": "code",
   "source": [
    "#How does the ph affect the perception of wine quality?\n",
    "wine_data %>% \n",
    "dplyr::group_by(pH) %>%\n",
    "dplyr::summarize(avg_quality = mean(quality))"
   ],
   "metadata": {
    "execution": {
     "iopub.status.busy": "2023-06-21T14:46:26.783773Z",
     "iopub.execute_input": "2023-06-21T14:46:26.785280Z",
     "iopub.status.idle": "2023-06-21T14:46:26.856140Z"
    },
    "trusted": true
   },
   "execution_count": null,
   "outputs": []
  },
  {
   "cell_type": "markdown",
   "source": [
    "## Does the amount of sulfer dioxide in the wine affect its quality?\n",
    "## Are wines with higher density percieved as having better quality?\n",
    "## Is there a relationship between chloride content and wine quality?\n",
    "## Are wines with higher levels of total sulfur dioxidde more likely to be rated as a lower quality?\n"
   ],
   "metadata": {}
  },
  {
   "cell_type": "markdown",
   "source": [
    "## Lets take a look at some visualizatons"
   ],
   "metadata": {}
  },
  {
   "cell_type": "code",
   "source": [
    "#Is there a relationship between alcohol content and wine quality?\n",
    "wine_data %>%\n",
    "dplyr::group_by(alcohol) %>%\n",
    "dplyr::summarize(avg_quality = mean(quality)) %>%\n",
    "ggplot() + \n",
    "aes(x = alcohol, y = avg_quality) + \n",
    "geom_point() +\n",
    "geom_smooth(method = \"lm\") +\n",
    "labs(x = \"Alcohol Content\", y = \"Average Quality\", title = \"Relationship between Alcohol Content and Quality\")"
   ],
   "metadata": {
    "execution": {
     "iopub.status.busy": "2023-06-21T14:53:03.424928Z",
     "iopub.execute_input": "2023-06-21T14:53:03.426647Z",
     "iopub.status.idle": "2023-06-21T14:53:05.424448Z"
    },
    "trusted": true
   },
   "execution_count": null,
   "outputs": []
  },
  {
   "cell_type": "markdown",
   "source": [
    "#### There seeems to be a positive relationship between the alcohol content and the wine qualiy. Wines with higher alcohol content tend to have a higher quality rating."
   ],
   "metadata": {}
  }
 ]
}
