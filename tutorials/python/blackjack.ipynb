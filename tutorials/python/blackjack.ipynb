{
 "cells": [
  {
   "cell_type": "markdown",
   "source": [
    "# Blackjack game project \n",
    "## freeCodeCamp.org project"
   ],
   "metadata": {
    "collapsed": false
   },
   "id": "85fb247d3b1d619c"
  },
  {
   "cell_type": "code",
   "outputs": [],
   "source": [
    "# import libraries\n",
    "import random"
   ],
   "metadata": {
    "collapsed": false
   },
   "id": "8d0cdb712a40a0c6",
   "execution_count": null
  },
  {
   "cell_type": "code",
   "outputs": [],
   "source": [
    "suit = 'hearts'\n",
    "rank = 'K'\n",
    "value = 10\n",
    "print('Your card is :'+ rank + ' of ' + suit )"
   ],
   "metadata": {
    "collapsed": false
   },
   "id": "86d8222219272530",
   "execution_count": null
  },
  {
   "cell_type": "markdown",
   "source": [
    "Create a list for all the suit and all the ranks \n",
    "- Suits will be spades, hearts, diamonds, and clubs\n",
    "- Ranks will be K,Q,J,10,9,8,7,6,5,4,3,2"
   ],
   "metadata": {
    "collapsed": false
   },
   "id": "9f371e4bbdcaeab6"
  },
  {
   "cell_type": "code",
   "outputs": [],
   "source": [
    "suits = ['hearts', 'diamonds', 'clubs', 'spades']\n",
    "for suit in suits:\n",
    "    print('Your card is '+ suit)\n",
    "ranks = ['K', 'Q', 'J', 'A', '10', '9' ,'8' ,'7' , '6', '5', '4', '3', '2']\n",
    "for rank in ranks:\n",
    "    print( 'Your card is '+ rank)\n",
    "    \n",
    "    \n",
    "for suit in suits:\n",
    "    print([suit, ranks[0]])\n",
    "    \n",
    "for suit in suits:\n",
    "    for rank in ranks:\n",
    "        print([suit, rank])"
   ],
   "metadata": {
    "collapsed": false
   },
   "id": "f14d277796a319b2",
   "execution_count": null
  },
  {
   "cell_type": "markdown",
   "source": [
    "Create a list named cards of the suits and the ranks"
   ],
   "metadata": {
    "collapsed": false
   },
   "id": "3b72ec763749e9f2"
  },
  {
   "cell_type": "code",
   "outputs": [],
   "source": [
    "cards =[]\n",
    "for suit in suits:\n",
    "    for rank in ranks:\n",
    "       cards.append([suit, rank])\n",
    "print(cards)"
   ],
   "metadata": {
    "collapsed": false
   },
   "id": "76baee7b206b9a72",
   "execution_count": null
  },
  {
   "cell_type": "markdown",
   "source": [
    "Now have the list be shuffled so the cards are not in any particular order with the random library. "
   ],
   "metadata": {
    "collapsed": false
   },
   "id": "74984730b121ea3e"
  },
  {
   "cell_type": "code",
   "outputs": [],
   "source": [
    "cards =[]\n",
    "for suit in suits:\n",
    "    for rank in ranks:\n",
    "       cards.append([suit, rank])\n",
    "\n",
    "random.shuffle(cards)\n",
    "print(cards)"
   ],
   "metadata": {
    "collapsed": false
   },
   "id": "47b790f8603d4da9",
   "execution_count": null
  },
  {
   "cell_type": "markdown",
   "source": [
    "Print one card from the cards list"
   ],
   "metadata": {
    "collapsed": false
   },
   "id": "6825511b46611ada"
  },
  {
   "cell_type": "code",
   "outputs": [],
   "source": [
    "card = cards.pop()\n",
    "print(card)"
   ],
   "metadata": {
    "collapsed": false
   },
   "id": "66133e40c22379d9",
   "execution_count": null
  },
  {
   "cell_type": "markdown",
   "source": [
    "Create a function that holds the single line that shuffles the cards"
   ],
   "metadata": {
    "collapsed": false
   },
   "id": "169127a3abf2051a"
  },
  {
   "cell_type": "code",
   "outputs": [],
   "source": [
    "def shuffle():\n",
    "    random.shuffle(cards)\n",
    "\n",
    "shuffle()\n",
    "print(cards)"
   ],
   "metadata": {
    "collapsed": false
   },
   "id": "3a2da9db7192b8ba",
   "execution_count": null
  },
  {
   "cell_type": "markdown",
   "source": [
    "Create a function called deal to deal one card at time"
   ],
   "metadata": {
    "collapsed": false
   },
   "id": "f63cd90ed71f0f1a"
  },
  {
   "cell_type": "code",
   "outputs": [],
   "source": [
    "def deal():\n",
    "    card = cards.pop()\n",
    "    return card\n",
    "card = deal()\n",
    "print(card)"
   ],
   "metadata": {
    "collapsed": false
   },
   "id": "7d3c82039df9d1cd",
   "execution_count": null
  },
  {
   "cell_type": "markdown",
   "source": [
    "Create a deal function that deals more than one card based on a number input"
   ],
   "metadata": {
    "collapsed": false
   },
   "id": "67d1b9414d61423"
  },
  {
   "cell_type": "code",
   "outputs": [],
   "source": [
    "def deal(num):\n",
    "    cards_dealt = []\n",
    "    for x in range(num):\n",
    "        card = cards.pop()\n",
    "        cards_dealt.append(card)\n",
    "    return cards_dealt\n",
    "\n",
    "shuffle()\n",
    "cards_dealt= deal(2)\n",
    "card= cards_dealt.pop[0]\n",
    "rank = card[1]\n",
    "\n",
    "if rank == \"A\":\n",
    "    value = 11\n",
    "elif rank == 'J'or 'Q' or'K':\n",
    "    value = 10\n",
    "else: \n",
    "    value = rank\n",
    "\n",
    "rank_dict= {'rank':rank,'value':value}\n",
    "\n",
    "print(rank_dict['rank'], rank_dict['value'])"
   ],
   "metadata": {
    "collapsed": false
   },
   "id": "de1edb253c36a41a",
   "execution_count": null
  },
  {
   "cell_type": "markdown",
   "source": [
    "Update ranks to be a dictionary to holds the label rank and the value of the rank "
   ],
   "metadata": {
    "collapsed": false
   },
   "id": "71efe24e25b72e9b"
  },
  {
   "cell_type": "markdown",
   "source": [
    "Putting code together "
   ],
   "metadata": {
    "collapsed": false
   },
   "id": "155e9a071fb8f71a"
  },
  {
   "cell_type": "markdown",
   "source": [],
   "metadata": {
    "collapsed": false
   },
   "id": "f22f40c145bd70de"
  },
  {
   "cell_type": "code",
   "outputs": [],
   "source": [
    "suits = ['hearts', 'diamonds', 'clubs', 'spades']\n",
    "ranks= [{'rank': 'A','value':11},\n",
    "        {'rank': 'K','value':10},\n",
    "        {'rank':'Q','value':10},\n",
    "        {'rank': 'J','value':10}, \n",
    "        {'rank':'10','value':10},\n",
    "        {'rank':'9','value':9},\n",
    "        {'rank':'8','value':8},\n",
    "        {'rank':'7','value':7},\n",
    "        {'rank':'6','value':6},\n",
    "        {'rank':'5','value':5},\n",
    "        {'rank':'4','value':4},\n",
    "        {'rank':'3','value':3},\n",
    "        {'rank':'2','value':3},\n",
    "        {'rank':'1','value':1}]\n",
    "\n",
    "\n",
    "cards =[]\n",
    "for suit in suits:\n",
    "    for rank in ranks:\n",
    "       cards.append([suit, rank])\n",
    "print(cards)\n",
    "\n",
    "def shuffle():\n",
    "    random.shuffle(cards)\n",
    "    \n",
    "def deal(num):\n",
    "    cards_dealt = []\n",
    "    for x in range(num):\n",
    "        card = cards.pop()\n",
    "        cards_dealt.append(card)\n",
    "    return cards_dealt\n",
    "\n",
    "shuffle()\n",
    "card = deal(1)\n",
    "\n",
    "print(card)\n"
   ],
   "metadata": {
    "collapsed": false
   },
   "id": "785893318c99b014",
   "execution_count": null
  },
  {
   "cell_type": "markdown",
   "source": [
    "Migrate all the code into 3 classes: card, deck, hand, "
   ],
   "metadata": {
    "collapsed": false
   },
   "id": "a0e998c1a4c55b68"
  },
  {
   "cell_type": "code",
   "outputs": [
    {
     "name": "stdout",
     "output_type": "stream",
     "text": [
      "\n",
      "Thanks fro playing!\n",
      "\n",
      "******************************\n",
      "Game 1 of 3 games\n",
      "******************************\n",
      "Your  hand\n",
      "1 of diamonds\n",
      "1 of spades\n",
      "Value: 2\n",
      "\n",
      "Dealer's hand\n",
      "hidden\n",
      "A of spades\n",
      "\n",
      "Your  hand\n",
      "1 of diamonds\n",
      "1 of spades\n",
      "J of clubs\n",
      "Value: 12\n",
      "\n",
      "Your  hand\n",
      "1 of diamonds\n",
      "1 of spades\n",
      "J of clubs\n",
      "Q of hearts\n",
      "Value: 22\n",
      "\n",
      "You busted. Dealer wins!\n",
      "\n",
      "******************************\n",
      "Game 2 of 3 games\n",
      "******************************\n",
      "Your  hand\n",
      "9 of clubs\n",
      "7 of hearts\n",
      "Value: 16\n",
      "\n",
      "Dealer's hand\n",
      "hidden\n",
      "8 of clubs\n",
      "\n",
      "Your  hand\n",
      "9 of clubs\n",
      "7 of hearts\n",
      "6 of spades\n",
      "Value: 22\n",
      "\n",
      "You busted. Dealer wins!\n",
      "\n",
      "******************************\n",
      "Game 3 of 3 games\n",
      "******************************\n",
      "Your  hand\n",
      "K of clubs\n",
      "4 of diamonds\n",
      "Value: 14\n",
      "\n",
      "Dealer's hand\n",
      "hidden\n",
      "6 of diamonds\n",
      "\n",
      "Dealer's hand\n",
      "5 of hearts\n",
      "6 of diamonds\n",
      "4 of spades\n",
      "\n",
      "Dealer's hand\n",
      "5 of hearts\n",
      "6 of diamonds\n",
      "4 of spades\n",
      "3 of hearts\n",
      "\n",
      "Final Results\n",
      "Your hand: 14\n",
      "Your dealer hand: 18\n",
      "Dealer wins!\n"
     ]
    }
   ],
   "source": [
    "class Card:\n",
    "    def __init__(self, suit, rank):\n",
    "        self.suit = suit\n",
    "        self.rank = rank\n",
    "    def __str__(self):\n",
    "        return f\"{self.rank['rank']} of {self.suit}\"\n",
    "    \n",
    "class Deck:\n",
    "    def __init__(self):\n",
    "        self.cards =[]\n",
    "        suits = ['hearts', 'diamonds', 'clubs', 'spades']\n",
    "        ranks = [\n",
    "                {'rank': 'A','value':11},\n",
    "                {'rank': 'K','value':10},\n",
    "                {'rank':'Q','value':10},\n",
    "                {'rank': 'J','value':10}, \n",
    "                {'rank':'10','value':10},\n",
    "                {'rank':'9','value':9},\n",
    "                {'rank':'8','value':8},\n",
    "                {'rank':'7','value':7},\n",
    "                {'rank':'6','value':6},\n",
    "                {'rank':'5','value':5},\n",
    "                {'rank':'4','value':4},\n",
    "                {'rank':'3','value':3},\n",
    "                {'rank':'2','value':3},\n",
    "                {'rank':'1','value':1}\n",
    "                ]\n",
    "        for suit in suits:\n",
    "            for rank in ranks:\n",
    "                self.cards.append(Card(suit, rank))\n",
    "    \n",
    "    def shuffle(self):\n",
    "        if len(self.cards)> 1:\n",
    "            random.shuffle(self.cards)\n",
    "    \n",
    "    def deal(self,num):\n",
    "        cards_dealt =[]\n",
    "        for x in range(num):\n",
    "            if len(self.cards) > 0:\n",
    "                card = self.cards.pop()\n",
    "                cards_dealt.append(card)\n",
    "        return cards_dealt \n",
    "    \n",
    "class Hand:\n",
    "        def __init__(self, dealer= False):\n",
    "            self.cards = []\n",
    "            self.value = 0\n",
    "            self.dealer = dealer\n",
    "           \n",
    "        def add_card(self, card_list):\n",
    "            self.cards.extend(card_list)\n",
    "            \n",
    "        def calc_value(self):\n",
    "            self.value = 0 \n",
    "            has_ace = False \n",
    "            \n",
    "            for card in self.cards:\n",
    "                card_value = int(card.rank['value'])\n",
    "                self.value += card_value\n",
    "                if card.rank['rank'] == 'A':\n",
    "                    has_ace = True\n",
    "                \n",
    "            if has_ace and self.value > 21:\n",
    "                    self.value -= 10\n",
    "        \n",
    "        def get_value(self): \n",
    "            self.calc_value()\n",
    "            return self.value \n",
    "        \n",
    "        def isbj(self):\n",
    "           return self.get_value() == 21\n",
    "        \n",
    "        def display(self, show_dealer_cards=False):\n",
    "            print (f'''{\"Dealer's\" if self.dealer else \"Your \"} hand''')\n",
    "            for index,card in enumerate(self.cards):\n",
    "                if index == 0 and self. dealer and not show_dealer_cards and not self.isbj():\n",
    "                    print(\"hidden\")\n",
    "                else: \n",
    "                    print(card)\n",
    "                    \n",
    "            if not self.dealer: \n",
    "                print(\"Value:\" , self.get_value())\n",
    "            print()\n",
    "            \n",
    "            \n",
    "class Blackjack:\n",
    "    def play(self):\n",
    "        game_num = 0 \n",
    "        games_left = 0 \n",
    "        \n",
    "        while games_left <= 0:\n",
    "            try:\n",
    "                games_left = int(input(\"How many games would you like to play? \"))\n",
    "            except: print(\"You must enter an number.\")\n",
    "        \n",
    "        while game_num < games_left:\n",
    "            game_num += 1\n",
    "            \n",
    "            deck= Deck()\n",
    "            deck.shuffle()\n",
    "            \n",
    "            player_hand = Hand()\n",
    "            dealer_hand = Hand(dealer=True)\n",
    "            \n",
    "            for i in range(2):\n",
    "                player_hand.add_card(deck.deal(1))\n",
    "                dealer_hand.add_card(deck.deal(1))\n",
    "            \n",
    "            print()\n",
    "            print(\"*\" * 30)\n",
    "            print(f\"Game {game_num} of {games_left} games\")\n",
    "            print(\"*\" * 30)\n",
    "            player_hand.display()\n",
    "            dealer_hand.display()\n",
    "            \n",
    "            if self.check_winner(player_hand, dealer_hand):\n",
    "                continue \n",
    "            \n",
    "            choice = \"\"\n",
    "            while player_hand.get_value() < 21 and choice not in [\"s\", \"stand\"]:\n",
    "                choice = input(\"Please choose 'Hit' or 'Stand:\").lower()\n",
    "                print()\n",
    "                while choice not in [\"h\", \"s\", \"hit\", \"stand\"]:\n",
    "                    choice = input(\"Please enter 'H' or 'S' or 'Hit' or 'Stand':\").lower()\n",
    "                    print()\n",
    "                if choice in [\"h\", \"hit\"]:\n",
    "                    player_hand.add_card(deck.deal(1))\n",
    "                    player_hand.display()\n",
    "            \n",
    "            if self.check_winner(player_hand, dealer_hand):\n",
    "                continue \n",
    "            \n",
    "            player_hand_value = player_hand.get_value()\n",
    "            dealer_hand_value = dealer_hand.get_value()\n",
    "            \n",
    "            while dealer_hand_value < 17:\n",
    "                dealer_hand.add_card(deck.deal(1))\n",
    "                dealer_hand_value = dealer_hand.get_value()\n",
    "                dealer_hand.display(show_dealer_cards=True)\n",
    "            \n",
    "            if self.check_winner(player_hand, dealer_hand):\n",
    "                continue \n",
    "            \n",
    "            print(\"Final Results\")\n",
    "            print(\"Your hand:\", player_hand_value)\n",
    "            print(\"Your dealer hand:\", dealer_hand_value)\n",
    "            \n",
    "            self.check_winner(player_hand, dealer_hand, True)\n",
    "            \n",
    "    print(\"\\nThanks for playing!\")\n",
    "            \n",
    "    def check_winner(self, player_hand, dealer_hand, game_over=False):\n",
    "        if not game_over:\n",
    "            if player_hand.get_value() > 21:\n",
    "                print(\"You busted. Dealer wins!\")\n",
    "                return True\n",
    "            elif dealer_hand.get_value() >21:\n",
    "                print(\"Dealer busted. You win!\")\n",
    "                return True\n",
    "            elif dealer_hand.isbj() and player_hand.isbj():\n",
    "                print(\"Both players have blackjack. Its a tie!\")\n",
    "                return True\n",
    "            elif dealer_hand.isbj():\n",
    "                print(\"Dealer has a blackjack. You lose!\")\n",
    "                return True\n",
    "            elif player_hand.isbj():\n",
    "                print(\"Player has a blackjack. You win!\")\n",
    "                return True\n",
    "        else:\n",
    "            if player_hand.get_value() > dealer_hand.get_value():\n",
    "                print(\"You win!\")\n",
    "            elif player_hand.get_value() < dealer_hand.get_value():\n",
    "                print(\"Dealer wins!\")\n",
    "            else : \n",
    "                print(\"Tie!\")\n",
    "        return False \n",
    "\n",
    "game = Blackjack()\n",
    "game.play()"
   ],
   "metadata": {
    "collapsed": false,
    "ExecuteTime": {
     "end_time": "2024-02-17T22:30:36.657747Z",
     "start_time": "2024-02-17T22:30:13.795575Z"
    }
   },
   "id": "5a4e962e7c725f9b",
   "execution_count": 119
  },
  {
   "cell_type": "code",
   "outputs": [],
   "source": [
    "h"
   ],
   "metadata": {
    "collapsed": false
   },
   "id": "d1a1d30a8460d217"
  }
 ],
 "metadata": {
  "kernelspec": {
   "display_name": "Python 3",
   "language": "python",
   "name": "python3"
  },
  "language_info": {
   "codemirror_mode": {
    "name": "ipython",
    "version": 2
   },
   "file_extension": ".py",
   "mimetype": "text/x-python",
   "name": "python",
   "nbconvert_exporter": "python",
   "pygments_lexer": "ipython2",
   "version": "2.7.6"
  }
 },
 "nbformat": 4,
 "nbformat_minor": 5
}
